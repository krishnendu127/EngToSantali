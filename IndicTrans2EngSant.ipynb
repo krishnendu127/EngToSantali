{
 "cells": [
  {
   "cell_type": "code",
   "execution_count": 13,
   "id": "2ebf252c-ce5c-4cb9-8f53-4684af0f7fbe",
   "metadata": {},
   "outputs": [],
   "source": [
    "import torch\n",
    "from transformers import (\n",
    "    AutoModelForSeq2SeqLM,\n",
    "\n",
    "    AutoTokenizer,\n",
    ")\n",
    "from IndicTransTokenizer import IndicProcessor\n"
   ]
  },
  {
   "cell_type": "code",
   "execution_count": 15,
   "id": "4d9d29ef-2056-4dd7-84ac-bccd89bb6548",
   "metadata": {},
   "outputs": [],
   "source": [
    "model_name = \"ai4bharat/indictrans2-en-indic-1B\"\n",
    "tokenizer = AutoTokenizer.from_pretrained(model_name, trust_remote_code=True)\n",
    "\n",
    "model = AutoModelForSeq2SeqLM.from_pretrained(model_name, trust_remote_code=True)\n",
    "\n",
    "ip = IndicProcessor(inference=True)"
   ]
  },
  {
   "cell_type": "code",
   "execution_count": 17,
   "id": "98269c6a-624d-43fc-80e3-01e3df7211ef",
   "metadata": {},
   "outputs": [],
   "source": [
    "input_sentences = [\n",
    "    \"On Monday, scientists from the Stanford University School of Medicine announced the invention of a new diagnostic tool that can sort cells by type: a tiny printable chip that can be manufactured using standard inkjet printers for possibly about one U.S. cent each. Lead researchers say this may bring early detection of cancer, tuberculosis, HIV and malaria to patients in low-income countries, where the survival rates for illnesses such as breast cancer can be half those of richer countries.\",\n",
    "    \"The JAS 39C Gripen crashed onto a runway at around 9:30 am local time (0230 UTC) and exploded, closing the airport to commercial flights. The pilot was identified as Squadron Leader Dilokrit Pattavee. Local media reports an airport fire vehicle rolled over while responding.\",\n",
    "    \"The protest started around 11:00 local time (UTC+1) on Whitehall opposite the police-guarded entrance to Downing Street, the Prime Minister's official residence. Just after 11:00, protesters blocked traffic on the northbound carriage in Whitehall. At 11:20, the police asked the protesters to move back on to the pavement, stating that they needed to balance the right to protest with the traffic building up. Around 11:29, the protest moved up Whitehall, past Trafalgar Square, along the Strand, passing by Aldwych and up Kingsway towards Holborn where the Conservative Party were holding their Spring Forum in the Grand Connaught Rooms hotel.\",\n",
    "    \"Nadal's head to head record against the Canadian is 7–2. He recently lost against Raonic in the Brisbane Open. Nadal bagged 88% net points in the match winning 76 points in the first serve. After the match, King of Clay said, 'I am just excited about being back in the final rounds of the most important events. I am here to try to win this. It is always difficult, but I fought and I worked hard to try to make that happen.'\",\n",
    "    \"'Panama Papers' is an umbrella term for roughly ten million documents from Panamanian law firm Mossack Fonseca, leaked to the press in spring 2016. The documents showed fourteen banks helped wealthy clients hide billions of US dollars of wealth to avoid taxes and other regulations. British newspaper The Guardian suggested Deutsche Bank controlled roughly a third of the 1200 shell companies used to accomplish this.\",\n",
    "    \"Born in Hong Kong, Ma studied at New York University and Harvard Law School and once held an American permanent resident 'green card'. Hsieh implied during the election that Ma might flee the country during a time of crisis. Hsieh also argued that the photogenic Ma was more style than substance. Despite these accusations, Ma won handily on a platform advocating closer ties with the Chinese mainland.\",\n",
    "    \"Today's Player of the Day is Alex Ovechkin of the Washington Capitals. He had 2 goals and 2 assists in Washington's 5-3 win over the Atlanta Thrashers. Ovechkin's first assist of the night was on the game-winning goal by rookie Nicklas Backstrom; his second goal of the night was his 60th of the season, becoming the first player to score 60 or more goals in a season since 1995-96, when Jaromir Jagr and Mario Lemieux each reached that milestone.\",\n",
    "    \"Batten was ranked 190th on the 2008 400 Richest Americans list with an estimated fortune of $2.3 billion. He graduated from the College of Arts & Sciences of the University of Virginia in 1950 and was a significant donor to that institution.\",\n",
    "   \n",
    "]\n"
   ]
  },
  {
   "cell_type": "code",
   "execution_count": null,
   "id": "91db212a-6d1d-4cda-a47f-d7b029ee1efe",
   "metadata": {},
   "outputs": [],
   "source": [
    " \"Iraq's Abu Ghraib prison has been set alight during a riot.  The jail became notorious after prisoner abuse was discovered there after US forces took over.\",\n",
    "    \"Piquet Jr. crashed in the 2008 Singapore Grand Prix just after an early pit stop for Fernando Alonso, bringing out the safety car. As the cars ahead of Alonso went in for fuel under the safety car, he moved up the pack to take victory. Piquet Jr. was sacked after the 2009 Hungarian Grand Prix.\",\n",
    "    \"At exactly 8:46 a.m. a hush fell across the city, marking the exact moment the first jet struck its target. Two beams of light have been rigged up to point skywards overnight. Construction is ongoing for five new skyscrapers at the site, with a transportation center and memorial park in the middle.\",\n",
    "    \"The PBS show has more than two-dozen Emmy awards, and its run is shorter only than Sesame Street and Mister Rogers' Neighborhood. Each episode of the show would focus on a theme in a specific book and then explore that theme through multiple stories. Each show would also provide recommendations for books that children should look for when they went to their library. John Grant, from WNED Buffalo (Reading Rainbow's home station) said 'Reading Rainbow taught kids why to read,... the love of reading — [the show] encouraged kids to pick up a book and to read.'\",\n",
    "    \"The storm, situated about 645 miles (1040 km) west of the Cape Verde islands, is likely to dissipate before threatening any land areas, forecasters say. Fred currently has winds of 105 miles per hour (165 km/h) and is moving towards the northwest. Fred is the strongest tropical cyclone ever recorded so far south and east in the Atlantic since the advent of satellite imagery, and only the third major hurricane on record east of 35°W.\",\n",
    "    \"On September 24, 1759, Arthur Guinness signed a 9,000 year lease for the St James' Gate Brewery in Dublin, Ireland. 250 years later, Guinness has grown to a global business that turns over 10 billion euros (US$14.7 billion) every year.\",\n",
    "    \"Jonny Reid, co-driver for the A1GP New Zealand team, today made history by driving the fastest over the 48-year-old Auckland Harbour Bridge, New Zealand, legally. Mr Reid managed to drive the New Zealand's A1GP car, Black Beauty at speeds over 160km/h seven times over the bridge. The New Zealand police had trouble using their speed radar guns to see how fast Mr Reid was going because of how low Black Beauty is, and the only time the police managed to clock Mr Reid was when he slowed down to 160km/h. Black Beauty, like all the other A1 Grand Prix cars, is powered by a V8 engine, 3.4 litres and has a top speed of 300km/h. During the record attempt, it managed to get to 160km/h from zero in under three seconds.\",\n",
    "    \"In the last 3 months, over 80 arrestees were released from the Central Booking facility without being formally charged. In April this year, a temporary restraining order was issued by Judge Glynn against the facility to enforce the release of those held more than 24 hours after their intake who did not receive a hearing by a court commissioner. The commissioner sets bail, if granted, and formalizes the charges filed by the arresting officer. The charges are then entered into the state's computer system where the case is tracked. The hearing also marks the date for the suspect’s right to a speedy trial.\",\n",
    "    \"Apple CEO Steve Jobs unveiled the device by walking onto the stage and taking the iPhone out of his jeans pocket. During his 2 hour speech he stated that 'Today Apple is going to reinvent the phone, We are going to make history today.'\",\n",
    "    \"Brazil is the largest Roman Catholic country on Earth, and the Roman Catholic Church has consistently opposed the legalization of same-sex marriage in the country. The National Congress of Brazil has debated legalization for 10 years, and such civil marriages are currently only legal in Rio Grande do Sul.\","
   ]
  },
  {
   "cell_type": "code",
   "execution_count": 19,
   "id": "7a98cc0c-8700-4bca-b6ce-71972d2af0d4",
   "metadata": {},
   "outputs": [],
   "source": [
    "src_lang, tgt_lang = \"eng_Latn\", \"hin_Deva\"\n",
    "\n",
    "batch = ip.preprocess_batch(\n",
    "    input_sentences,\n",
    "    src_lang=src_lang,\n",
    "    tgt_lang=tgt_lang,\n",
    ")"
   ]
  },
  {
   "cell_type": "code",
   "execution_count": 21,
   "id": "38d43134-20f2-4bda-88c3-ce0be7de9c80",
   "metadata": {},
   "outputs": [],
   "source": [
    "DEVICE = \"cuda\" if torch.cuda.is_available() else \"cpu\""
   ]
  },
  {
   "cell_type": "code",
   "execution_count": 25,
   "id": "b7a6de80-a258-4835-9fa4-3b5a3eccd4b2",
   "metadata": {},
   "outputs": [],
   "source": [
    "# Tokenize the sentences and generate input encodings\n",
    "inputs = tokenizer(\n",
    "    batch,\n",
    "    truncation=True,\n",
    "    padding=\"longest\",\n",
    "    return_tensors=\"pt\",\n",
    "    return_attention_mask=True,\n",
    ").to(DEVICE)"
   ]
  },
  {
   "cell_type": "code",
   "execution_count": null,
   "id": "ac749a6c-f705-4501-acc2-c9c3424be7c7",
   "metadata": {},
   "outputs": [],
   "source": [
    "# Generate translations using the model\n",
    "with torch.no_grad():\n",
    "    generated_tokens = model.generate(\n",
    "        **inputs,\n",
    "        use_cache=True,\n",
    "        min_length=0,\n",
    "        max_length=256,\n",
    "        num_beams=5,\n",
    "        num_return_sequences=1,\n",
    "    )"
   ]
  },
  {
   "cell_type": "code",
   "execution_count": 21,
   "id": "5a88aaab-5d11-417c-b3d0-b4e0559a85b5",
   "metadata": {},
   "outputs": [
    {
     "name": "stderr",
     "output_type": "stream",
     "text": [
      "C:\\Users\\krishnendu\\anaconda3\\Lib\\site-packages\\transformers\\tokenization_utils_base.py:3946: UserWarning: `as_target_tokenizer` is deprecated and will be removed in v5 of Transformers. You can tokenize your labels by using the argument `text_target` of the regular `__call__` method (either in the same call as your input texts if you use the same keyword arguments, or in a separate call.\n",
      "  warnings.warn(\n"
     ]
    }
   ],
   "source": [
    "# Decode the generated tokens into text\n",
    "with tokenizer.as_target_tokenizer():\n",
    "    generated_tokens = tokenizer.batch_decode(\n",
    "        generated_tokens.detach().cpu().tolist(),\n",
    "        skip_special_tokens=True,\n",
    "        clean_up_tokenization_spaces=True,\n",
    "    )"
   ]
  },
  {
   "cell_type": "code",
   "execution_count": 23,
   "id": "dbca538c-b0c0-48e5-aa37-8f55967b6e8b",
   "metadata": {},
   "outputs": [],
   "source": [
    "# Postprocess the translations, including entity replacement\n",
    "translations = ip.postprocess_batch(generated_tokens, lang=tgt_lang)\n",
    "translations_list = []\n",
    "for input_sentence, translation in zip(input_sentences, translations):\n",
    "    translations_list.append({translation})"
   ]
  },
  {
   "cell_type": "code",
   "execution_count": 25,
   "id": "c0914b49-3832-4953-a215-2c9af38cdd9e",
   "metadata": {},
   "outputs": [
    {
     "data": {
      "text/plain": [
       "[{'सोमवार को, स्टैनफोर्ड यूनिवर्सिटी स्कूल ऑफ मेडिसिन के वैज्ञानिकों ने एक नए नैदानिक उपकरण के आविष्कार की घोषणा की जो कोशिकाओं को प्रकार के अनुसार क्रमबद्ध कर सकता हैः एक छोटी छापने योग्य चिप जिसे मानक इंकजेट प्रिंटर का उपयोग करके संभवतः लगभग एक अमेरिकी प्रतिशत के लिए बनाया जा सकता है। प्रमुख शोधकर्ताओं का कहना है कि इससे कम आय वाले देशों में रोगियों में कैंसर, तपेदिक, एचआईवी और मलेरिया का जल्द पता चल सकता है, जहां स्तन कैंसर जैसी बीमारियों के लिए जीवित रहने की दर अमीर देशों की तुलना में आधी हो सकती है। '}]"
      ]
     },
     "execution_count": 25,
     "metadata": {},
     "output_type": "execute_result"
    }
   ],
   "source": [
    "translations_list"
   ]
  },
  {
   "cell_type": "code",
   "execution_count": 27,
   "id": "b558e9a2-4b76-4f21-90d3-b30b49515f1b",
   "metadata": {},
   "outputs": [
    {
     "name": "stdout",
     "output_type": "stream",
     "text": [
      "['सोमवार को, स्टैनफोर्ड यूनिवर्सिटी स्कूल ऑफ मेडिसिन के वैज्ञानिकों ने एक नए नैदानिक उपकरण के आविष्कार की घोषणा की जो कोशिकाओं को प्रकार के अनुसार क्रमबद्ध कर सकता हैः एक छोटी छापने योग्य चिप जिसे मानक इंकजेट प्रिंटर का उपयोग करके संभवतः लगभग एक अमेरिकी प्रतिशत के लिए बनाया जा सकता है। प्रमुख शोधकर्ताओं का कहना है कि इससे कम आय वाले देशों में रोगियों में कैंसर, तपेदिक, एचआईवी और मलेरिया का जल्द पता चल सकता है, जहां स्तन कैंसर जैसी बीमारियों के लिए जीवित रहने की दर अमीर देशों की तुलना में आधी हो सकती है।']\n"
     ]
    }
   ],
   "source": [
    "processed_list = []\n",
    "\n",
    "for item in translations_list:\n",
    "    # Extract the single string from the set\n",
    "    for string_value in item:\n",
    "        # Remove single quotes, strip leading/trailing whitespaces, and enclose in double quotes\n",
    "        processed_string = f'{string_value.strip()}'\n",
    "        processed_list.append(processed_string)\n",
    "\n",
    "# Output the processed list\n",
    "print(processed_list)"
   ]
  },
  {
   "cell_type": "code",
   "execution_count": 29,
   "id": "cd1130be-7f9f-470a-9486-26d7dbc758b1",
   "metadata": {},
   "outputs": [
    {
     "name": "stdout",
     "output_type": "stream",
     "text": [
      "[['सोमवार', 'को,', 'स्टैनफोर्ड', 'यूनिवर्सिटी', 'स्कूल', 'ऑफ', 'मेडिसिन', 'के', 'वैज्ञानिकों', 'ने', 'एक', 'नए', 'नैदानिक', 'उपकरण', 'के', 'आविष्कार', 'की', 'घोषणा', 'की', 'जो', 'कोशिकाओं', 'को', 'प्रकार', 'के', 'अनुसार', 'क्रमबद्ध', 'कर', 'सकता', 'हैः', 'एक', 'छोटी', 'छापने', 'योग्य', 'चिप', 'जिसे', 'मानक', 'इंकजेट', 'प्रिंटर', 'का', 'उपयोग', 'करके', 'संभवतः', 'लगभग', 'एक', 'अमेरिकी', 'प्रतिशत', 'के', 'लिए', 'बनाया', 'जा', 'सकता', 'है।', 'प्रमुख', 'शोधकर्ताओं', 'का', 'कहना', 'है', 'कि', 'इससे', 'कम', 'आय', 'वाले', 'देशों', 'में', 'रोगियों', 'में', 'कैंसर,', 'तपेदिक,', 'एचआईवी', 'और', 'मलेरिया', 'का', 'जल्द', 'पता', 'चल', 'सकता', 'है,', 'जहां', 'स्तन', 'कैंसर', 'जैसी', 'बीमारियों', 'के', 'लिए', 'जीवित', 'रहने', 'की', 'दर', 'अमीर', 'देशों', 'की', 'तुलना', 'में', 'आधी', 'हो', 'सकती', 'है।']]\n"
     ]
    }
   ],
   "source": [
    "# Sample list of strings\n",
    "strings_list = processed_list\n",
    "\n",
    "# Using a loop\n",
    "split_strings = []\n",
    "for string in strings_list:\n",
    "    split_strings.append(string.split())\n",
    "\n",
    "# Using list comprehension\n",
    "processed_split_strings = [string.split() for string in strings_list]\n",
    "\n",
    "print(processed_split_strings)\n"
   ]
  },
  {
   "cell_type": "code",
   "execution_count": 33,
   "id": "32dbeede-9f90-4e11-86ca-f31480b92cbe",
   "metadata": {},
   "outputs": [
    {
     "name": "stdout",
     "output_type": "stream",
     "text": [
      "[['सोमवार', 'को,', 'स्टैनफ़ोर्ड', 'यूनिवर्सिटी', 'स्कूल', 'ऑफ़', 'मेडिसिन', 'के', 'वैज्ञानिकों', 'ने', 'एक', 'नए', 'डायग्नोस्टिक', 'उपकरण', 'के', 'आविष्कार', 'की', 'घोषणा', 'की', 'जो', 'कोशिकाओं', 'को', 'उनके', 'प्रकार', 'के', 'आधार', 'पर', 'छाँट', 'सकता', 'है:', 'एक', 'छोटी', 'प्रिंट', 'करने', 'योग्य', 'चिप', 'जिसे', 'स्टैण्डर्ड', 'इंकजेट', 'प्रिंटर', 'का', 'उपयोग', 'करके', 'लगभग', 'एक', 'अमेरिकी', 'सेंट', 'के', 'लिए', 'निर्मित', 'किया', 'जा', 'सकता', 'है.शोधकर्ताओं', 'ने', 'कहा', 'है', 'कि', 'यह', 'अल्प', 'आय', 'वाले', 'देशों', 'में', 'कैंसर,', 'टीवी,', 'एचआईवी', 'और', 'मलेरिया', 'के', 'रोगियों', 'की', 'आसानी', 'से', 'पहचान', 'करेगा,', 'जहाँ', 'अमीर', 'देशों', 'की', 'तुलना', 'में', 'स्तन', 'कैंसर', 'जैसी', 'बीमारी', 'में', 'जीवित', 'रहने', 'की', 'दर', 'आधी', 'हो', 'सकती', 'है.']]\n"
     ]
    }
   ],
   "source": [
    "# Sample list of strings\n",
    "strings_list = [\n",
    "    'सोमवार को, स्टैनफ़ोर्ड यूनिवर्सिटी स्कूल ऑफ़ मेडिसिन के वैज्ञानिकों ने एक नए डायग्नोस्टिक उपकरण के आविष्कार की घोषणा की जो कोशिकाओं को उनके प्रकार के आधार पर छाँट सकता है: एक छोटी प्रिंट करने योग्य चिप जिसे स्टैण्डर्ड इंकजेट प्रिंटर का उपयोग करके लगभग एक अमेरिकी सेंट के लिए निर्मित किया जा सकता है.शोधकर्ताओं ने कहा है कि यह अल्प आय वाले देशों में कैंसर, टीवी, एचआईवी और मलेरिया के रोगियों की आसानी से पहचान करेगा, जहाँ अमीर देशों की तुलना में स्तन कैंसर जैसी बीमारी में जीवित रहने की दर आधी हो सकती है.',\n",
    "    'स्थानीय समय (0230 UTC) के मुताबिक करीब 9:30 बजे JAS 39C Gripen रनवे पर धमाके के साथ दुर्घटनाग्रस्त हो गया, जिसकी वजह से वाणिज्यिक उड़ानों के लिए हवाई अड्डे को बंद कर दिया गया.पायलट की पहचान स्क्वाड्रन लीडर दिलोकृत पटावी के रूप में की गई.स्थानीय मीडिया ने बताया है कि कार्रवाई करने के दौरान एयरपोर्ट का अग्निशामक वाहन लुढ़क गया था.',\n",
    "    'व्हाइटहॉल पर लगभग 11:00 बजे स्थानीय समय (यूटीसी + 1) पर विरोध शुरू हुआ, जो प्रधानमंत्री के आधिकारिक आवास डाउनिंग स्ट्रीट के पुलिस-पहरेदार के दरवाजे के सामने था।ठीक 11:00 बजे के बाद, व्हाइटहॉल में उत्तर की ओर जाने वाले ट्रैफ़िक को प्रदर्शनकारियों ने रोक दिया.11:20 पर, पुलिस ने प्रदर्शनकारियों को यह कहते हुए फ़ुटपाथ पर वापस जाने के लिए कहा कि उन्हें भीड़ इकट्ठा करने के साथ विरोध करने के अधिकार को संतुलित करने की ज़रूरत है.11:29 बजे के आस-पास, विरोध करने वाले लोग व्हाइटहॉल की ओर बढ़ गए. इसके बाद, वे किनारे-किनारे चलते हुए ट्राफ़ल्गर स्क्वायर, एल्डविच, किंग्सवे से गुजरते हुए होलबर्न की ओर बढ़ गए, जहाँ कंजरवेटिव पार्टी, ग्रैंड कनॉट रूम होटल में अपने स्प्रिंग फ़ोरम का आयोजन कर रही थी.',\n",
    "    'कनाडियन के खिलाफ नडाल का सीधा रिकॉर्ड 7-2 है।वे हाल ही में ब्रिस्बेन ओपन में रोनिक के खिलाफ हार गए थे.फ़र्स्ट सर्व में नडाल को 76 मैच विनिंग पॉइंट्स में 88% नेट पॉइंट्स मिले.मैच के बाद, क्ले के राजा ने कहा, “मैं सबसे महत्वपूर्ण इवेंट के अंतिम दौर में वापस आने को लेकर उत्साहित हूँं। मैं यहाँ इसे जीतने का प्रयास कर रहा हूँं।”',\n",
    "    '“पनामा पेपर्स” पनामा की कानूनी फर्म मोसाक फोंसेका से लगभग दस मिलियन दस्तावेजों के लिए एक शब्द युग्म है जिसे सन 2016 के वसंत में प्रेस को लीक कर दिया गया था। दस्तावेजों से पता चलता है कि चौदह बैंकों ने अमीर ग्राहकों को कर और अन्य नियमों से बचने के लिए अरबों अमेरिकी डॉलर की संपत्ति छिपाने में मदद की।ब्रिटिश अख़बार द गार्जियन के अनुसार ड्यूश बैंक ने इसे पूरा करने के लिए इस्तेमाल की जाने वाली 1200 शेल कंपनियों में से एक तिहाई को मोटे तौर पर नियंत्रित किया.दुनिया भर में विरोध प्रदर्शन हुए, कई आपराधिक मुकदमे दर्ज हुए और आइसलैंड और पाकिस्तान की सरकारों के कई नेताओं ने इस्तीफा दे दिया।',\n",
    "    'मा का जन्म हांगकांग में हुआ था, उन्होंने न्यूयॉर्क विश्वविद्यालय और हार्वर्ड लॉ स्कूल में अध्ययन किया और उनके पास अमेरिका की स्थाई नागरिकता वाला “ग्रीन कार्ड” भी था.चुनाव के दौरान साइह ने जताया कि संकट के दौर में मा देश छोड़कर भाग सकते हैं.शय ने यह भी तर्क दिया कि फ़ोटोजेनिक मा हक़ीक़त की तुलना में ज़्यादा बनावटी थे.इन आरोपों के बावजूद, मा ने चीनी महाद्वीप के साथ घनिष्ठ संबंधों की वकालत करते हुए एक मंच पर जीत हासिल की.'\n",
    "    'आज के खिलाड़ी वॉशिगंटन कैपिटल्स के एलेक्स ओवेचकिन हैं.अटलांटा थ्रैशर्स पर वाशिंगटन की 5-3 की जीत में उन्होंने 2 गोल और 2 असिस्ट किए थे.उस रात रूकी निकल्स बैकस्ट्रॉम के खेल जिताने वाले गोल से ओवेचकिन को सबसे पहली मदद मिली.रात का उनका दूसरा गोल सीज़न का उनका 60वाँ गोल था, जिससे 1995-96 से लेकरजब जोरोमिर जागर और मारियो लेमिएक्स ने इतने गोल किए थे उसके बाद वह एक सीज़न में 60 या इससे अधिक गोल करने वाले पहले खिलाड़ी बन गए हैं.',\n",
    "    '2008 के 400 सबसे अमीर अमेरिकियों की सूची में बैटन को $ 2.3 billion की अनुमानित संपत्ति के साथ 190 वें स्थान पर रखा गया था।उन्होंने 1950 में वर्जीनिया यूनिवर्सिटी के कला और विज्ञान महाविद्यालय से स्नातक की उपाधि हासिल की थी और वे उस संस्था के अहम दानदाता थे.',\n",
    "]\n",
    "\n",
    "# Using a loop\n",
    "split_strings = []\n",
    "for string in strings_list:\n",
    "    split_strings.append(string.split())\n",
    "\n",
    "# Using list comprehension\n",
    "processed_split_strings_reference = [string.split() for string in strings_list]\n",
    "\n",
    "print(processed_split_strings_reference)\n"
   ]
  },
  {
   "cell_type": "code",
   "execution_count": null,
   "id": "534c7676-fda9-450e-870f-6170890ab564",
   "metadata": {},
   "outputs": [],
   "source": [
    "'स्थानीय समय (0230 UTC) के मुताबिक करीब 9:30 बजे JAS 39C Gripen रनवे पर धमाके के साथ दुर्घटनाग्रस्त हो गया, जिसकी वजह से वाणिज्यिक उड़ानों के लिए हवाई अड्डे को बंद कर दिया गया.पायलट की पहचान स्क्वाड्रन लीडर दिलोकृत पटावी के रूप में की गई.स्थानीय मीडिया ने बताया है कि कार्रवाई करने के दौरान एयरपोर्ट का अग्निशामक वाहन लुढ़क गया था.',\n",
    "    'व्हाइटहॉल पर लगभग 11:00 बजे स्थानीय समय (यूटीसी + 1) पर विरोध शुरू हुआ, जो प्रधानमंत्री के आधिकारिक आवास डाउनिंग स्ट्रीट के पुलिस-पहरेदार के दरवाजे के सामने था।ठीक 11:00 बजे के बाद, व्हाइटहॉल में उत्तर की ओर जाने वाले ट्रैफ़िक को प्रदर्शनकारियों ने रोक दिया.11:20 पर, पुलिस ने प्रदर्शनकारियों को यह कहते हुए फ़ुटपाथ पर वापस जाने के लिए कहा कि उन्हें भीड़ इकट्ठा करने के साथ विरोध करने के अधिकार को संतुलित करने की ज़रूरत है.11:29 बजे के आस-पास, विरोध करने वाले लोग व्हाइटहॉल की ओर बढ़ गए. इसके बाद, वे किनारे-किनारे चलते हुए ट्राफ़ल्गर स्क्वायर, एल्डविच, किंग्सवे से गुजरते हुए होलबर्न की ओर बढ़ गए, जहाँ कंजरवेटिव पार्टी, ग्रैंड कनॉट रूम होटल में अपने स्प्रिंग फ़ोरम का आयोजन कर रही थी.',\n",
    "    'कनाडियन के खिलाफ नडाल का सीधा रिकॉर्ड 7-2 है।वे हाल ही में ब्रिस्बेन ओपन में रोनिक के खिलाफ हार गए थे.फ़र्स्ट सर्व में नडाल को 76 मैच विनिंग पॉइंट्स में 88% नेट पॉइंट्स मिले.मैच के बाद, क्ले के राजा ने कहा, “मैं सबसे महत्वपूर्ण इवेंट के अंतिम दौर में वापस आने को लेकर उत्साहित हूँं। मैं यहाँ इसे जीतने का प्रयास कर रहा हूँं।”',\n",
    "    '“पनामा पेपर्स” पनामा की कानूनी फर्म मोसाक फोंसेका से लगभग दस मिलियन दस्तावेजों के लिए एक शब्द युग्म है जिसे सन 2016 के वसंत में प्रेस को लीक कर दिया गया था। दस्तावेजों से पता चलता है कि चौदह बैंकों ने अमीर ग्राहकों को कर और अन्य नियमों से बचने के लिए अरबों अमेरिकी डॉलर की संपत्ति छिपाने में मदद की।ब्रिटिश अख़बार द गार्जियन के अनुसार ड्यूश बैंक ने इसे पूरा करने के लिए इस्तेमाल की जाने वाली 1200 शेल कंपनियों में से एक तिहाई को मोटे तौर पर नियंत्रित किया.दुनिया भर में विरोध प्रदर्शन हुए, कई आपराधिक मुकदमे दर्ज हुए और आइसलैंड और पाकिस्तान की सरकारों के कई नेताओं ने इस्तीफा दे दिया।',\n",
    "    'मा का जन्म हांगकांग में हुआ था, उन्होंने न्यूयॉर्क विश्वविद्यालय और हार्वर्ड लॉ स्कूल में अध्ययन किया और उनके पास अमेरिका की स्थाई नागरिकता वाला “ग्रीन कार्ड” भी था.चुनाव के दौरान साइह ने जताया कि संकट के दौर में मा देश छोड़कर भाग सकते हैं.शय ने यह भी तर्क दिया कि फ़ोटोजेनिक मा हक़ीक़त की तुलना में ज़्यादा बनावटी थे.इन आरोपों के बावजूद, मा ने चीनी महाद्वीप के साथ घनिष्ठ संबंधों की वकालत करते हुए एक मंच पर जीत हासिल की.'\n",
    "    'आज के खिलाड़ी वॉशिगंटन कैपिटल्स के एलेक्स ओवेचकिन हैं.अटलांटा थ्रैशर्स पर वाशिंगटन की 5-3 की जीत में उन्होंने 2 गोल और 2 असिस्ट किए थे.उस रात रूकी निकल्स बैकस्ट्रॉम के खेल जिताने वाले गोल से ओवेचकिन को सबसे पहली मदद मिली.रात का उनका दूसरा गोल सीज़न का उनका 60वाँ गोल था, जिससे 1995-96 से लेकरजब जोरोमिर जागर और मारियो लेमिएक्स ने इतने गोल किए थे उसके बाद वह एक सीज़न में 60 या इससे अधिक गोल करने वाले पहले खिलाड़ी बन गए हैं.',\n",
    "    '2008 के 400 सबसे अमीर अमेरिकियों की सूची में बैटन को $ 2.3 billion की अनुमानित संपत्ति के साथ 190 वें स्थान पर रखा गया था।उन्होंने 1950 में वर्जीनिया यूनिवर्सिटी के कला और विज्ञान महाविद्यालय से स्नातक की उपाधि हासिल की थी और वे उस संस्था के अहम दानदाता थे.',"
   ]
  },
  {
   "cell_type": "code",
   "execution_count": 35,
   "id": "0e8b88c1-6dc3-4a51-a203-02369d439f64",
   "metadata": {},
   "outputs": [
    {
     "name": "stdout",
     "output_type": "stream",
     "text": [
      "0.34483740983069716\n"
     ]
    }
   ],
   "source": [
    "from nltk.translate.bleu_score import sentence_bleu\n",
    "\n",
    "# Define your desired weights (example: higher weight for bi-grams)\n",
    "weights = (0.25, 0.25, 0.25, 0.25) # Weights for uni-gram, bi-gram, tri-gram, and 4-gram\n",
    "\n",
    "# Reference and predicted texts (same as before)\n",
    "reference =processed_split_strings_reference\n",
    "predictions =processed_split_strings[0]\n",
    "\n",
    "# Calculate BLEU score with weights\n",
    "score = sentence_bleu(reference, predictions, weights=weights)\n",
    "print(score)\n"
   ]
  },
  {
   "cell_type": "code",
   "execution_count": null,
   "id": "7cc44a1d-94b3-4c50-911d-ebaf08348192",
   "metadata": {},
   "outputs": [],
   "source": []
  }
 ],
 "metadata": {
  "kernelspec": {
   "display_name": "Python 3 (ipykernel)",
   "language": "python",
   "name": "python3"
  },
  "language_info": {
   "codemirror_mode": {
    "name": "ipython",
    "version": 3
   },
   "file_extension": ".py",
   "mimetype": "text/x-python",
   "name": "python",
   "nbconvert_exporter": "python",
   "pygments_lexer": "ipython3",
   "version": "3.11.7"
  }
 },
 "nbformat": 4,
 "nbformat_minor": 5
}
